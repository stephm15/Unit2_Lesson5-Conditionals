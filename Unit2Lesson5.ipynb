{
  "nbformat": 4,
  "nbformat_minor": 0,
  "metadata": {
    "colab": {
      "name": "Unit2Lesson5",
      "provenance": [],
      "authorship_tag": "ABX9TyNDXAGQ5nwG/Q1ZPVR2RbkN",
      "include_colab_link": true
    },
    "kernelspec": {
      "name": "python3",
      "display_name": "Python 3"
    }
  },
  "cells": [
    {
      "cell_type": "markdown",
      "metadata": {
        "id": "view-in-github",
        "colab_type": "text"
      },
      "source": [
        "<a href=\"https://colab.research.google.com/github/stephm15/Unit2_Lesson5-Conditionals/blob/main/Unit2Lesson5.ipynb\" target=\"_parent\"><img src=\"https://colab.research.google.com/assets/colab-badge.svg\" alt=\"Open In Colab\"/></a>"
      ]
    },
    {
      "cell_type": "code",
      "metadata": {
        "id": "fSWhWktQFlrJ",
        "colab": {
          "base_uri": "https://localhost:8080/"
        },
        "outputId": "d4bd0d49-57f6-4d05-dfde-a575d8823bab"
      },
      "source": [
        "#Name: Stephanie Salarbux\r\n",
        "#Lesson 5: If-elif-else Statements \r\n",
        "#1.\tMake a list of 5 or more usernames, including an admin account.  Imagine you are writing code that will welcome people to your application on login. Loop through the list and print your greeting.\r\n",
        " #a.\tIf the admin account logs in, give them a special greeting.  They’re the admin, after all!\r\n",
        " #b.\tOther users can get the generic greeting\r\n",
        "#2.\tStore numbers 1-10 in a list\r\n",
        " #a.\tLoop through the list\r\n",
        " #b.\tUse an if-elif-else chain inside your loop to print the ordinal ending for each number – for example – 1st, 2nd, 3rd … etc.\r\n",
        "\r\n",
        "username = ['admin', 'reports', 'invoices', 'income', 'tax','payroll']\r\n",
        "print(username)\r\n",
        "for user in username: \r\n",
        "  if user == 'admin':\r\n",
        "    print(\"Welcome to the Administrator account! Please select from the action menu to proceed\")\r\n",
        "  else:\r\n",
        "    print(\"Welcome to your account, \" + user)\r\n",
        "\r\n",
        "\r\n",
        "\r\n",
        "range = [1,2,3,4,5,6,7,8,9,10]\r\n",
        "print(range)\r\n",
        "for x in range:\r\n",
        "  print(x)\r\n",
        "\r\n",
        "for x in range:\r\n",
        "  if x == 1:\r\n",
        "    print(str(1) + \"st\")\r\n",
        "  if x == 2:\r\n",
        "    print(str(2) + \"nd\" )\r\n",
        "  elif x == 3:\r\n",
        "    print(str(3) + \"rd\")\r\n",
        "  else:\r\n",
        "    print(str(x) + \"th\")\r\n"
      ],
      "execution_count": 20,
      "outputs": [
        {
          "output_type": "stream",
          "text": [
            "['admin', 'reports', 'invoices', 'income', 'tax', 'payroll']\n",
            "Welcome to the Administrator account! Please select from the action menu to proceed\n",
            "Welcome to your account, reports\n",
            "Welcome to your account, invoices\n",
            "Welcome to your account, income\n",
            "Welcome to your account, tax\n",
            "Welcome to your account, payroll\n",
            "[1, 2, 3, 4, 5, 6, 7, 8, 9, 10]\n",
            "1\n",
            "2\n",
            "3\n",
            "4\n",
            "5\n",
            "6\n",
            "7\n",
            "8\n",
            "9\n",
            "10\n",
            "1st\n",
            "1th\n",
            "2nd\n",
            "3rd\n",
            "4th\n",
            "5th\n",
            "6th\n",
            "7th\n",
            "8th\n",
            "9th\n",
            "10th\n"
          ],
          "name": "stdout"
        }
      ]
    }
  ]
}